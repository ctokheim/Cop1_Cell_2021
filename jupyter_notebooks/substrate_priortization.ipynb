{
 "cells": [
  {
   "cell_type": "markdown",
   "metadata": {},
   "source": [
    "### Cop1 Substrate priortization\n",
    "\n",
    "This notebook is meant to priortize potential substrates of Cop1."
   ]
  },
  {
   "cell_type": "code",
   "execution_count": 34,
   "metadata": {},
   "outputs": [
    {
     "name": "stdout",
     "output_type": "stream",
     "text": [
      "The rpy2.ipython extension is already loaded. To reload it, use:\n",
      "  %reload_ext rpy2.ipython\n"
     ]
    }
   ],
   "source": [
    "import numpy as np\n",
    "import matplotlib.pyplot as plt\n",
    "import seaborn as sns\n",
    "import pandas as pd\n",
    "import scipy.stats as stats\n",
    "from sklearn import linear_model\n",
    "%matplotlib inline\n",
    "import matplotlib as mpl\n",
    "mpl.rcParams['pdf.fonttype'] = 42\n",
    "import rpy2\n",
    "%load_ext rpy2.ipython"
   ]
  },
  {
   "cell_type": "code",
   "execution_count": 35,
   "metadata": {},
   "outputs": [
    {
     "name": "stdout",
     "output_type": "stream",
     "text": [
      "['#1f77b4', '#ff7f0e', '#2ca02c', '#d62728', '#9467bd', '#8c564b', '#e377c2', '#7f7f7f', '#bcbd22', '#17becf']\n"
     ]
    },
    {
     "data": {
      "image/png": "[encoded data removed]",
      "text/plain": [
       "<Figure size 720x72 with 1 Axes>"
      ]
     },
     "metadata": {
      "needs_background": "light"
     },
     "output_type": "display_data"
    }
   ],
   "source": [
    "print(sns.color_palette().as_hex())\n",
    "sns.palplot(sns.color_palette())\n"
   ]
  },
  {
   "cell_type": "code",
   "execution_count": 2,
   "metadata": {},
   "outputs": [
    {
     "name": "stdout",
     "output_type": "stream",
     "text": [
      "7369\n",
      "7369\n"
     ]
    }
   ],
   "source": [
    "# read in the data\n",
    "df = pd.read_csv('data/substrate_prioritization/Integrate_RNA_Protein.txt', sep='\\t')\n",
    "print(len(df))\n",
    "\n",
    "# merged in adjusted values from RNA\n",
    "rna_adj = pd.read_csv('data/degron_pred/diff_prot_abundance_RNA_adjusted.txt', sep='\\t')\n",
    "rename_dict = {\n",
    "    'gene': 'Genes',\n",
    "    'RNA adjusted t': 'Pro_no_treat_t_rnaAdj',\n",
    "    'RNA adjusted pvalue': 'Pro_no_treat_P.Value_rnaAdj',\n",
    "    'RNA adjusted qvalue': 'Pro_no_treat_adj.P.Val_rnaAdj'\n",
    "}\n",
    "rna_adj = rna_adj.rename(columns=rename_dict)\n",
    "\n",
    "# read in RNA data\n",
    "rna = pd.read_csv('data/substrate_prioritization/4t1_cop1_1-2_r26.txt', sep='\\t')\n",
    "rna = rna.reset_index().rename(columns={'stat': 'RNA wald-statistic', 'index': 'Genes'})\n",
    "\n",
    "# merge data\n",
    "mycols = ['Genes', 'Pro_no_treat_t_rnaAdj', 'Pro_no_treat_P.Value_rnaAdj', 'Pro_no_treat_adj.P.Val_rnaAdj']\n",
    "df = pd.merge(df, rna_adj[mycols], on='Genes', how='left')\n",
    "df = pd.merge(df, rna[['Genes', 'RNA wald-statistic']], on='Genes', how='left')\n",
    "print(len(df))\n",
    "\n",
    "# read in mouse TF genes\n",
    "mouse_tf_df = pd.read_csv('data/substrate_prioritization/Mus_musculus_TF.txt', sep='\\t')\n",
    "mouse_tfs = mouse_tf_df['Symbol'].unique()"
   ]
  },
  {
   "cell_type": "code",
   "execution_count": 3,
   "metadata": {},
   "outputs": [
    {
     "name": "stdout",
     "output_type": "stream",
     "text": [
      "532\n"
     ]
    }
   ],
   "source": [
    "# filter based on differential protein abundance\n",
    "is_signif = df['Pro_no_treat_adj.P.Val_rnaAdj']<0.1\n",
    "is_up = df['Pro_no_treat_t_rnaAdj']>0\n",
    "up_df = df[is_signif & is_up].copy()\n",
    "print(up_df['Genes'].nunique())"
   ]
  },
  {
   "cell_type": "markdown",
   "metadata": {},
   "source": [
    "### Volcano plot of transcription factors"
   ]
  },
  {
   "cell_type": "code",
   "execution_count": 4,
   "metadata": {},
   "outputs": [
    {
     "data": {
      "text/html": [
       "<div>\n",
       "<style scoped>\n",
       "    .dataframe tbody tr th:only-of-type {\n",
       "        vertical-align: middle;\n",
       "    }\n",
       "\n",
       "    .dataframe tbody tr th {\n",
       "        vertical-align: top;\n",
       "    }\n",
       "\n",
       "    .dataframe thead th {\n",
       "        text-align: right;\n",
       "    }\n",
       "</style>\n",
       "<table border=\"1\" class=\"dataframe\">\n",
       "  <thead>\n",
       "    <tr style=\"text-align: right;\">\n",
       "      <th></th>\n",
       "      <th>Mouse_Symbol</th>\n",
       "      <th>Human_Symbol</th>\n",
       "      <th>Family</th>\n",
       "      <th>Subfamily</th>\n",
       "    </tr>\n",
       "  </thead>\n",
       "  <tbody>\n",
       "    <tr>\n",
       "      <th>0</th>\n",
       "      <td>Elf1</td>\n",
       "      <td>ELF1</td>\n",
       "      <td>ETS</td>\n",
       "      <td>ELF</td>\n",
       "    </tr>\n",
       "    <tr>\n",
       "      <th>1</th>\n",
       "      <td>Elf2</td>\n",
       "      <td>ELF2</td>\n",
       "      <td>ETS</td>\n",
       "      <td>ELF</td>\n",
       "    </tr>\n",
       "    <tr>\n",
       "      <th>2</th>\n",
       "      <td>Elf4</td>\n",
       "      <td>ELF4</td>\n",
       "      <td>ETS</td>\n",
       "      <td>ELF</td>\n",
       "    </tr>\n",
       "    <tr>\n",
       "      <th>3</th>\n",
       "      <td>Gabpa</td>\n",
       "      <td>GABPA</td>\n",
       "      <td>ETS</td>\n",
       "      <td>ELG</td>\n",
       "    </tr>\n",
       "    <tr>\n",
       "      <th>4</th>\n",
       "      <td>Erg</td>\n",
       "      <td>ERG</td>\n",
       "      <td>ETS</td>\n",
       "      <td>ERG</td>\n",
       "    </tr>\n",
       "  </tbody>\n",
       "</table>\n",
       "</div>"
      ],
      "text/plain": [
       "  Mouse_Symbol Human_Symbol Family Subfamily\n",
       "0         Elf1         ELF1    ETS       ELF\n",
       "1         Elf2         ELF2    ETS       ELF\n",
       "2         Elf4         ELF4    ETS       ELF\n",
       "3        Gabpa        GABPA    ETS       ELG\n",
       "4          Erg          ERG    ETS       ERG"
      ]
     },
     "execution_count": 4,
     "metadata": {},
     "output_type": "execute_result"
    }
   ],
   "source": [
    "# read in transcription factors from the AP-1 / ETS / CEBP family\n",
    "tf_family = pd.read_csv('data/substrate_prioritization/tf_family_formatted.txt', sep='\\t')\n",
    "#tf_colors = {\n",
    "#    'AP-1': sns.color_palette().as_hex()[0],\n",
    "#    'CEBP': sns.color_palette().as_hex()[3],\n",
    "#    'ETS': sns.color_palette().as_hex()[2]\n",
    "#}\n",
    "tf_colors = {\n",
    "    'AP-1': sns.color_palette().as_hex()[4],\n",
    "    'CEBP': sns.color_palette().as_hex()[1],\n",
    "    'ETS': sns.color_palette().as_hex()[2]\n",
    "}\n",
    "tf_family.head()"
   ]
  },
  {
   "cell_type": "code",
   "execution_count": 6,
   "metadata": {},
   "outputs": [
    {
     "data": {
      "image/png": "[encoded data removed]",
      "text/plain": [
       "<Figure size 432x288 with 1 Axes>"
      ]
     },
     "metadata": {},
     "output_type": "display_data"
    }
   ],
   "source": [
    "# all data\n",
    "plot_df = df.copy().drop_duplicates('Genes')\n",
    "plot_df['-log10(q-value)'] = -np.log10(df['Pro_no_treat_adj.P.Val_rnaAdj'])\n",
    "plot_df['Log2 Fold Change'] = df['Pro_no_treat_logFC']\n",
    "# good hits\n",
    "#plot_df2 = up_motif_hscore_df.copy().drop_duplicates('Genes')\n",
    "#plot_df2['-log10(q-value)'] = -np.log10(plot_df2['Pro_no_treat_adj.P.Val_rnaAdj'])\n",
    "#plot_df2['Log2 Fold Change'] = plot_df2['Pro_no_treat_logFC']\n",
    "# plot results\n",
    "txt_lbls = []\n",
    "with sns.axes_style('ticks'), sns.plotting_context('notebook', font_scale=1.2):\n",
    "    known_cases = ['Ets1', 'Ets2', 'Jun', 'Etv4', 'Trib2', 'Tex2', 'Anapc1', 'Tanc1', 'Zzef1', 'Dhx8']\n",
    "    ax = sns.scatterplot(x='Log2 Fold Change', y='-log10(q-value)', data=plot_df[plot_df['Genes'].isin(list(mouse_tfs) + known_cases)], linewidth=0, color='lightgray')\n",
    "    #ax = sns.scatterplot(x='Log2 Fold Change', y='-log10(q-value)', data=plot_df2, linewidth=1, color='red', edgecolor=None, label='high scoring Cop1 motif')\n",
    "    #txt_lbls+=[\n",
    "    #    ax.text(row['Log2 Fold Change'], row['-log10(q-value)'], row['Genes'])\n",
    "    #    for ix, row in plot_df2.iterrows()\n",
    "    #]\n",
    "    # label known/predicted substrates\n",
    "    sns.scatterplot(x='Log2 Fold Change', y='-log10(q-value)', data=plot_df[plot_df['Genes'].isin(known_cases)], linewidth=1.5, color='lightgray', edgecolor='black', label='known substrate')\n",
    "    txt_lbls+=[\n",
    "        ax.text(row['Log2 Fold Change'], row['-log10(q-value)'], row['Genes'])\n",
    "        for ix, row in plot_df[plot_df['Genes'].isin(known_cases)].iterrows()\n",
    "    ]\n",
    "    # label TFs\n",
    "    known_cases = tf_family[tf_family['Family']=='ETS']['Mouse_Symbol'].values\n",
    "    sns.scatterplot(x='Log2 Fold Change', y='-log10(q-value)', data=plot_df[plot_df['Genes'].isin(known_cases)], linewidth=0, color=tf_colors['ETS'], label='ETS family')\n",
    "    txt_lbls+=[\n",
    "        ax.text(row['Log2 Fold Change'], row['-log10(q-value)'], row['Genes'])\n",
    "        for ix, row in plot_df[plot_df['Genes'].isin(known_cases)].iterrows()\n",
    "        if row['-log10(q-value)']>1\n",
    "    ]\n",
    "    known_cases = tf_family[tf_family['Family']=='AP-1']['Mouse_Symbol'].values\n",
    "    sns.scatterplot(x='Log2 Fold Change', y='-log10(q-value)', data=plot_df[plot_df['Genes'].isin(known_cases)], linewidth=0, color=tf_colors['AP-1'], label='AP-1 family')\n",
    "    txt_lbls+=[\n",
    "        ax.text(row['Log2 Fold Change'], row['-log10(q-value)'], row['Genes'])\n",
    "        for ix, row in plot_df[plot_df['Genes'].isin(known_cases)].iterrows()\n",
    "        if row['-log10(q-value)']>1\n",
    "    ]\n",
    "    cebp_family = tf_family[tf_family['Family']=='CEBP']['Mouse_Symbol'].values \n",
    "    sns.scatterplot(x='Log2 Fold Change', y='-log10(q-value)', data=plot_df[plot_df['Genes'].isin(cebp_family)], linewidth=0, color=tf_colors['CEBP'], edgecolor=None, label='CEBP family')\n",
    "    txt_lbls+=[\n",
    "        ax.text(row['Log2 Fold Change'], row['-log10(q-value)'], row['Genes'])\n",
    "        for ix, row in plot_df[plot_df['Genes'].isin(cebp_family)].iterrows()\n",
    "        if row['-log10(q-value)']>1\n",
    "    ]\n",
    "    \n",
    "    # set x limits\n",
    "    plt.xlim(-4.25, 4.25)\n",
    "\n",
    "    # configure other plotting options\n",
    "    plt.axhline(1, ls='--', color='gray')\n",
    "    plt.legend(bbox_to_anchor=(1.05, .63), loc=2, borderaxespad=0., frameon=False, )\n",
    "    import adjustText\n",
    "    adjustText.adjust_text(txt_lbls, arrowprops=dict(arrowstyle='-', color='black'))\n",
    "    #plt.savefig('figures/proteomics_volcano_all_tfs_v4.pdf')"
   ]
  },
  {
   "cell_type": "markdown",
   "metadata": {},
   "source": [
    "### Plot degron motif hits"
   ]
  },
  {
   "cell_type": "markdown",
   "metadata": {},
   "source": [
    "Next, we filter by degron sequence motif"
   ]
  },
  {
   "cell_type": "code",
   "execution_count": 8,
   "metadata": {},
   "outputs": [
    {
     "name": "stdout",
     "output_type": "stream",
     "text": [
      "39\n"
     ]
    },
    {
     "data": {
      "text/plain": [
       "array(['Pdgfrl', 'Trib2', 'Mgat5', 'Cebpd', 'Ets1', 'Rap1gap', 'Spn',\n",
       "       'Cpd', 'Flt1', 'Dtnb', 'Trib3', 'Serac1', 'Lamp1', 'Ufc1', 'Nbr1',\n",
       "       'Map4k4', 'Apbb1ip', 'Tanc1', 'Tex2', 'Mtr', 'Diexf', 'Smtn',\n",
       "       'Fbxw8', 'Fez2', 'Dock11', 'Rab11fip1', 'Akap12', 'Ercc3',\n",
       "       'Tango6', 'Ctsd', 'Cmtr1', 'Sh3glb2', 'Npat', 'Gtse1', 'Eif4g3',\n",
       "       'Zzef1', 'Dhx8', 'Anapc1', 'Plekhm1'], dtype=object)"
      ]
     },
     "execution_count": 8,
     "metadata": {},
     "output_type": "execute_result"
    }
   ],
   "source": [
    "is_motif = up_df['degron']=='yes'\n",
    "up_motif_df = up_df[is_motif].copy()\n",
    "print(up_motif_df['Genes'].nunique())\n",
    "up_motif_df['Genes'].unique()"
   ]
  },
  {
   "cell_type": "markdown",
   "metadata": {},
   "source": [
    "Next, only motifs in humans and higher degron potential"
   ]
  },
  {
   "cell_type": "code",
   "execution_count": 9,
   "metadata": {},
   "outputs": [
    {
     "name": "stdout",
     "output_type": "stream",
     "text": [
      "7\n"
     ]
    },
    {
     "data": {
      "text/plain": [
       "array(['Trib2', 'Ets1', 'Tanc1', 'Tex2', 'Zzef1', 'Dhx8', 'Anapc1'],\n",
       "      dtype=object)"
      ]
     },
     "execution_count": 9,
     "metadata": {},
     "output_type": "execute_result"
    }
   ],
   "source": [
    "is_high_score = up_motif_df['Random Forest score']>0.5\n",
    "up_motif_hscore_df = up_motif_df[is_high_score].copy()\n",
    "print(up_motif_hscore_df['Genes'].nunique())\n",
    "is_high_lfc = df['Pro_no_treat_logFC']>0.5\n",
    "up_motif_hscore_df['Genes'].unique()"
   ]
  },
  {
   "cell_type": "code",
   "execution_count": 16,
   "metadata": {},
   "outputs": [],
   "source": [
    "# all data\n",
    "plot_df = df.copy().drop_duplicates('Genes')\n",
    "plot_df['-log10(q-value)'] = -np.log10(df['Pro_no_treat_adj.P.Val_rnaAdj'])\n",
    "plot_df['Log2 Fold Change'] = df['Pro_no_treat_logFC']"
   ]
  },
  {
   "cell_type": "markdown",
   "metadata": {},
   "source": [
    "Next, we plot the volcano plot for differential expression."
   ]
  },
  {
   "cell_type": "code",
   "execution_count": 20,
   "metadata": {},
   "outputs": [
    {
     "name": "stderr",
     "output_type": "stream",
     "text": [
      "/Users/ctokheim/conda/envs/data_analysis2/lib/python3.7/site-packages/seaborn/_decorators.py:43: FutureWarning: Pass the following variables as keyword args: x, y. From version 0.12, the only valid positional argument will be `data`, and passing other arguments without an explicit keyword will result in an error or misinterpretation.\n",
      "  FutureWarning\n"
     ]
    },
    {
     "data": {
      "image/png": "[encoded data removed]",
      "text/plain": [
       "<Figure size 432x288 with 1 Axes>"
      ]
     },
     "metadata": {},
     "output_type": "display_data"
    }
   ],
   "source": [
    "# plot results\n",
    "# all data\n",
    "plot_df = df.copy().drop_duplicates('Genes')\n",
    "plot_df['Proteomic t-statistic'] = plot_df['Pro_no_treat_t']\n",
    "# good hits\n",
    "plot_df2 = up_motif_hscore_df.copy().drop_duplicates('Genes')\n",
    "plot_df2['Proteomic t-statistic'] = plot_df2['Pro_no_treat_t']\n",
    "txt_lbls = []\n",
    "with sns.axes_style('ticks'), sns.plotting_context('notebook', font_scale=1.2):\n",
    "    sns.scatterplot(x='RNA wald-statistic', y='Proteomic t-statistic', data=plot_df, linewidth=0, color='lightgray')\n",
    "    ax = sns.scatterplot(x='RNA wald-statistic', y='Proteomic t-statistic', data=plot_df2, linewidth=1, color='red', edgecolor=None, label='high scoring Cop1 motif')\n",
    "    txt_lbls+=[\n",
    "        ax.text(row['RNA wald-statistic'], row['Proteomic t-statistic'], row['Genes'])\n",
    "        for ix, row in plot_df2.iterrows()\n",
    "    ]\n",
    "    known_cases = ['Ets1', 'Ets2', 'Jun', 'Etv4']\n",
    "    sns.scatterplot(x='RNA wald-statistic', y='Proteomic t-statistic', data=plot_df[plot_df['Genes'].isin(known_cases)], linewidth=1, color='red', edgecolor='black', label='known substrate')\n",
    "    txt_lbls+=[\n",
    "        ax.text(row['RNA wald-statistic'], row['Proteomic t-statistic'], row['Genes'])\n",
    "        for ix, row in plot_df[plot_df['Genes'].isin(known_cases)].iterrows()\n",
    "    ]\n",
    "    cebp_family = ['Cebpa', 'Cebpb', 'Cebpc', 'Cebpd', 'Cebpe'] \n",
    "    sns.scatterplot(x='RNA wald-statistic', y='Proteomic t-statistic', data=plot_df[plot_df['Genes'].isin(cebp_family)], linewidth=0, color='blue', edgecolor=None, label='CEBP family')\n",
    "    txt_lbls+=[\n",
    "        ax.text(row['RNA wald-statistic'], row['Proteomic t-statistic'], row['Genes'])\n",
    "        for ix, row in plot_df[plot_df['Genes'].isin(cebp_family)].iterrows()\n",
    "    ]\n",
    "    # configure other plotting options\n",
    "    plt.legend(bbox_to_anchor=(1.05, .63), loc=2, borderaxespad=0., frameon=False, )\n",
    "    import adjustText\n",
    "    adjustText.adjust_text(txt_lbls, arrowprops=dict(arrowstyle='-', color='black'))\n",
    "    sns.regplot('RNA wald-statistic', 'Proteomic t-statistic', scatter=False, data=plot_df)\n",
    "    #plt.savefig('figures/rna_prot_correlation.pdf')"
   ]
  },
  {
   "cell_type": "markdown",
   "metadata": {},
   "source": [
    "### Proteomic heatmap"
   ]
  },
  {
   "cell_type": "code",
   "execution_count": 21,
   "metadata": {},
   "outputs": [
    {
     "data": {
      "text/plain": [
       "12     Ets1\n",
       "23     Elk3\n",
       "30    Cebpd\n",
       "32    Cebpz\n",
       "35    Fosl2\n",
       "43     Atf6\n",
       "44    Atf6b\n",
       "53     Maff\n",
       "Name: Mouse_Symbol, dtype: object"
      ]
     },
     "execution_count": 21,
     "metadata": {},
     "output_type": "execute_result"
    }
   ],
   "source": [
    "# read in protein abundance\n",
    "prot_abundance = pd.read_csv('data/substrate_prioritization/protein_abundance.txt', sep='\\t').rename(columns={'Gene': 'MouseSymbol'}).drop_duplicates('MouseSymbol')\n",
    "samples = prot_abundance.columns[1:]\n",
    "\n",
    "# merge in info about significance\n",
    "df['significant'] = 'lightgray'\n",
    "is_signif = df['Pro_no_treat_adj.P.Val_rnaAdj']<=0.1\n",
    "is_up = df['Pro_no_treat_t_rnaAdj']>0\n",
    "df.loc[is_signif & is_up, 'significant'] = sns.color_palette().as_hex()[2]\n",
    "prot_abundance = pd.merge(prot_abundance, df[['Genes', 'significant']], \n",
    "                          left_on='MouseSymbol', right_on='Genes', how='left')\n",
    "\n",
    "# Get the list of TF genes up-regulated\n",
    "tmp_signif_up = df.loc[is_signif & is_up, 'Genes']\n",
    "signif_up_tfs = tf_family.loc[tf_family['Mouse_Symbol'].isin(tmp_signif_up), 'Mouse_Symbol']\n",
    "signif_up_tfs"
   ]
  },
  {
   "cell_type": "code",
   "execution_count": 24,
   "metadata": {},
   "outputs": [
    {
     "data": {
      "text/html": [
       "<div>\n",
       "<style scoped>\n",
       "    .dataframe tbody tr th:only-of-type {\n",
       "        vertical-align: middle;\n",
       "    }\n",
       "\n",
       "    .dataframe tbody tr th {\n",
       "        vertical-align: top;\n",
       "    }\n",
       "\n",
       "    .dataframe thead th {\n",
       "        text-align: right;\n",
       "    }\n",
       "</style>\n",
       "<table border=\"1\" class=\"dataframe\">\n",
       "  <thead>\n",
       "    <tr style=\"text-align: right;\">\n",
       "      <th></th>\n",
       "      <th>MouseSymbol</th>\n",
       "      <th>Rosa26_r1 No treatment</th>\n",
       "      <th>Rosa26_r2 No treatment</th>\n",
       "      <th>Cop1_sg1_r1 No treatment</th>\n",
       "      <th>Cop1_sg1_r2 No treatment</th>\n",
       "      <th>Cop1_sg2_r1 No treatment</th>\n",
       "      <th>Cop1_sg2_r2 No treatment</th>\n",
       "      <th>Rosa26_r1 MG132 treat</th>\n",
       "      <th>Rosa26_r2 MG132 treat</th>\n",
       "      <th>Cop1_sg1_r1 MG132 treat</th>\n",
       "      <th>Cop1_sg1_r2 MG132 treat</th>\n",
       "      <th>Cop1_sg2_r1 MG132 treat</th>\n",
       "      <th>Genes</th>\n",
       "      <th>significant</th>\n",
       "    </tr>\n",
       "  </thead>\n",
       "  <tbody>\n",
       "    <tr>\n",
       "      <th>0</th>\n",
       "      <td>Ahnak</td>\n",
       "      <td>10.48200</td>\n",
       "      <td>10.81400</td>\n",
       "      <td>10.21720</td>\n",
       "      <td>9.25378</td>\n",
       "      <td>8.42749</td>\n",
       "      <td>8.34256</td>\n",
       "      <td>9.61722</td>\n",
       "      <td>8.26120</td>\n",
       "      <td>9.19947</td>\n",
       "      <td>8.62662</td>\n",
       "      <td>6.75847</td>\n",
       "      <td>Ahnak</td>\n",
       "      <td>lightgray</td>\n",
       "    </tr>\n",
       "    <tr>\n",
       "      <th>1</th>\n",
       "      <td>Plec</td>\n",
       "      <td>9.70880</td>\n",
       "      <td>9.35968</td>\n",
       "      <td>8.72549</td>\n",
       "      <td>7.99173</td>\n",
       "      <td>10.55530</td>\n",
       "      <td>9.60815</td>\n",
       "      <td>8.21902</td>\n",
       "      <td>7.13901</td>\n",
       "      <td>9.32669</td>\n",
       "      <td>9.13145</td>\n",
       "      <td>10.23470</td>\n",
       "      <td>Plec</td>\n",
       "      <td>lightgray</td>\n",
       "    </tr>\n",
       "    <tr>\n",
       "      <th>2</th>\n",
       "      <td>Dync1h1</td>\n",
       "      <td>9.91839</td>\n",
       "      <td>10.78580</td>\n",
       "      <td>8.39088</td>\n",
       "      <td>8.22774</td>\n",
       "      <td>9.08761</td>\n",
       "      <td>8.70211</td>\n",
       "      <td>9.50084</td>\n",
       "      <td>8.53565</td>\n",
       "      <td>8.49539</td>\n",
       "      <td>8.88014</td>\n",
       "      <td>9.47550</td>\n",
       "      <td>Dync1h1</td>\n",
       "      <td>lightgray</td>\n",
       "    </tr>\n",
       "    <tr>\n",
       "      <th>3</th>\n",
       "      <td>Eef1a1</td>\n",
       "      <td>8.05028</td>\n",
       "      <td>9.93620</td>\n",
       "      <td>8.46026</td>\n",
       "      <td>10.82350</td>\n",
       "      <td>9.66216</td>\n",
       "      <td>11.37630</td>\n",
       "      <td>7.24741</td>\n",
       "      <td>10.29010</td>\n",
       "      <td>7.42588</td>\n",
       "      <td>8.52540</td>\n",
       "      <td>8.20254</td>\n",
       "      <td>Eef1a1</td>\n",
       "      <td>lightgray</td>\n",
       "    </tr>\n",
       "    <tr>\n",
       "      <th>4</th>\n",
       "      <td>Pkm</td>\n",
       "      <td>9.19546</td>\n",
       "      <td>9.19652</td>\n",
       "      <td>9.60625</td>\n",
       "      <td>8.94649</td>\n",
       "      <td>9.72321</td>\n",
       "      <td>10.39180</td>\n",
       "      <td>8.47904</td>\n",
       "      <td>9.67649</td>\n",
       "      <td>8.12013</td>\n",
       "      <td>7.59412</td>\n",
       "      <td>9.07051</td>\n",
       "      <td>Pkm</td>\n",
       "      <td>lightgray</td>\n",
       "    </tr>\n",
       "    <tr>\n",
       "      <th>...</th>\n",
       "      <td>...</td>\n",
       "      <td>...</td>\n",
       "      <td>...</td>\n",
       "      <td>...</td>\n",
       "      <td>...</td>\n",
       "      <td>...</td>\n",
       "      <td>...</td>\n",
       "      <td>...</td>\n",
       "      <td>...</td>\n",
       "      <td>...</td>\n",
       "      <td>...</td>\n",
       "      <td>...</td>\n",
       "      <td>...</td>\n",
       "      <td>...</td>\n",
       "    </tr>\n",
       "    <tr>\n",
       "      <th>7785</th>\n",
       "      <td>Edem2</td>\n",
       "      <td>9.90355</td>\n",
       "      <td>8.17316</td>\n",
       "      <td>8.32577</td>\n",
       "      <td>10.29870</td>\n",
       "      <td>8.91208</td>\n",
       "      <td>8.99317</td>\n",
       "      <td>9.26181</td>\n",
       "      <td>8.83450</td>\n",
       "      <td>9.50155</td>\n",
       "      <td>9.57957</td>\n",
       "      <td>8.21616</td>\n",
       "      <td>Edem2</td>\n",
       "      <td>lightgray</td>\n",
       "    </tr>\n",
       "    <tr>\n",
       "      <th>7786</th>\n",
       "      <td>Zfp451</td>\n",
       "      <td>8.06164</td>\n",
       "      <td>8.53396</td>\n",
       "      <td>7.18999</td>\n",
       "      <td>6.38257</td>\n",
       "      <td>6.75549</td>\n",
       "      <td>4.94803</td>\n",
       "      <td>12.95960</td>\n",
       "      <td>10.70440</td>\n",
       "      <td>12.68240</td>\n",
       "      <td>11.39590</td>\n",
       "      <td>10.38600</td>\n",
       "      <td>Zfp451</td>\n",
       "      <td>lightgray</td>\n",
       "    </tr>\n",
       "    <tr>\n",
       "      <th>7787</th>\n",
       "      <td>Serpinb9b</td>\n",
       "      <td>7.27882</td>\n",
       "      <td>7.35151</td>\n",
       "      <td>14.60490</td>\n",
       "      <td>12.88340</td>\n",
       "      <td>8.45875</td>\n",
       "      <td>7.56624</td>\n",
       "      <td>6.16968</td>\n",
       "      <td>6.65048</td>\n",
       "      <td>11.02840</td>\n",
       "      <td>9.98096</td>\n",
       "      <td>8.02686</td>\n",
       "      <td>Serpinb9b</td>\n",
       "      <td>lightgray</td>\n",
       "    </tr>\n",
       "    <tr>\n",
       "      <th>7788</th>\n",
       "      <td>Igtp</td>\n",
       "      <td>8.30344</td>\n",
       "      <td>9.48992</td>\n",
       "      <td>10.21560</td>\n",
       "      <td>7.03404</td>\n",
       "      <td>9.94691</td>\n",
       "      <td>10.23660</td>\n",
       "      <td>9.49595</td>\n",
       "      <td>10.00290</td>\n",
       "      <td>7.97356</td>\n",
       "      <td>7.67429</td>\n",
       "      <td>9.62677</td>\n",
       "      <td>Igtp</td>\n",
       "      <td>lightgray</td>\n",
       "    </tr>\n",
       "    <tr>\n",
       "      <th>7789</th>\n",
       "      <td>Kcnk5</td>\n",
       "      <td>3.58601</td>\n",
       "      <td>3.53069</td>\n",
       "      <td>2.54426</td>\n",
       "      <td>3.62454</td>\n",
       "      <td>5.26209</td>\n",
       "      <td>6.07771</td>\n",
       "      <td>10.67080</td>\n",
       "      <td>22.40960</td>\n",
       "      <td>11.60190</td>\n",
       "      <td>10.89730</td>\n",
       "      <td>19.79520</td>\n",
       "      <td>Kcnk5</td>\n",
       "      <td>lightgray</td>\n",
       "    </tr>\n",
       "  </tbody>\n",
       "</table>\n",
       "<p>7790 rows × 14 columns</p>\n",
       "</div>"
      ],
      "text/plain": [
       "     MouseSymbol  Rosa26_r1 No treatment  Rosa26_r2 No treatment  \\\n",
       "0          Ahnak                10.48200                10.81400   \n",
       "1           Plec                 9.70880                 9.35968   \n",
       "2        Dync1h1                 9.91839                10.78580   \n",
       "3         Eef1a1                 8.05028                 9.93620   \n",
       "4            Pkm                 9.19546                 9.19652   \n",
       "...          ...                     ...                     ...   \n",
       "7785       Edem2                 9.90355                 8.17316   \n",
       "7786      Zfp451                 8.06164                 8.53396   \n",
       "7787   Serpinb9b                 7.27882                 7.35151   \n",
       "7788        Igtp                 8.30344                 9.48992   \n",
       "7789       Kcnk5                 3.58601                 3.53069   \n",
       "\n",
       "      Cop1_sg1_r1 No treatment  Cop1_sg1_r2 No treatment  \\\n",
       "0                     10.21720                   9.25378   \n",
       "1                      8.72549                   7.99173   \n",
       "2                      8.39088                   8.22774   \n",
       "3                      8.46026                  10.82350   \n",
       "4                      9.60625                   8.94649   \n",
       "...                        ...                       ...   \n",
       "7785                   8.32577                  10.29870   \n",
       "7786                   7.18999                   6.38257   \n",
       "7787                  14.60490                  12.88340   \n",
       "7788                  10.21560                   7.03404   \n",
       "7789                   2.54426                   3.62454   \n",
       "\n",
       "      Cop1_sg2_r1 No treatment  Cop1_sg2_r2 No treatment  \\\n",
       "0                      8.42749                   8.34256   \n",
       "1                     10.55530                   9.60815   \n",
       "2                      9.08761                   8.70211   \n",
       "3                      9.66216                  11.37630   \n",
       "4                      9.72321                  10.39180   \n",
       "...                        ...                       ...   \n",
       "7785                   8.91208                   8.99317   \n",
       "7786                   6.75549                   4.94803   \n",
       "7787                   8.45875                   7.56624   \n",
       "7788                   9.94691                  10.23660   \n",
       "7789                   5.26209                   6.07771   \n",
       "\n",
       "      Rosa26_r1 MG132 treat  Rosa26_r2 MG132 treat  Cop1_sg1_r1 MG132 treat  \\\n",
       "0                   9.61722                8.26120                  9.19947   \n",
       "1                   8.21902                7.13901                  9.32669   \n",
       "2                   9.50084                8.53565                  8.49539   \n",
       "3                   7.24741               10.29010                  7.42588   \n",
       "4                   8.47904                9.67649                  8.12013   \n",
       "...                     ...                    ...                      ...   \n",
       "7785                9.26181                8.83450                  9.50155   \n",
       "7786               12.95960               10.70440                 12.68240   \n",
       "7787                6.16968                6.65048                 11.02840   \n",
       "7788                9.49595               10.00290                  7.97356   \n",
       "7789               10.67080               22.40960                 11.60190   \n",
       "\n",
       "      Cop1_sg1_r2 MG132 treat  Cop1_sg2_r1 MG132 treat      Genes significant  \n",
       "0                     8.62662                  6.75847      Ahnak   lightgray  \n",
       "1                     9.13145                 10.23470       Plec   lightgray  \n",
       "2                     8.88014                  9.47550    Dync1h1   lightgray  \n",
       "3                     8.52540                  8.20254     Eef1a1   lightgray  \n",
       "4                     7.59412                  9.07051        Pkm   lightgray  \n",
       "...                       ...                      ...        ...         ...  \n",
       "7785                  9.57957                  8.21616      Edem2   lightgray  \n",
       "7786                 11.39590                 10.38600     Zfp451   lightgray  \n",
       "7787                  9.98096                  8.02686  Serpinb9b   lightgray  \n",
       "7788                  7.67429                  9.62677       Igtp   lightgray  \n",
       "7789                 10.89730                 19.79520      Kcnk5   lightgray  \n",
       "\n",
       "[7790 rows x 14 columns]"
      ]
     },
     "execution_count": 24,
     "metadata": {},
     "output_type": "execute_result"
    }
   ],
   "source": [
    "prot_abundance"
   ]
  },
  {
   "cell_type": "code",
   "execution_count": 31,
   "metadata": {},
   "outputs": [
    {
     "data": {
      "text/html": [
       "<div>\n",
       "<style scoped>\n",
       "    .dataframe tbody tr th:only-of-type {\n",
       "        vertical-align: middle;\n",
       "    }\n",
       "\n",
       "    .dataframe tbody tr th {\n",
       "        vertical-align: top;\n",
       "    }\n",
       "\n",
       "    .dataframe thead th {\n",
       "        text-align: right;\n",
       "    }\n",
       "</style>\n",
       "<table border=\"1\" class=\"dataframe\">\n",
       "  <thead>\n",
       "    <tr style=\"text-align: right;\">\n",
       "      <th></th>\n",
       "      <th>t statistic</th>\n",
       "      <th>pvalue</th>\n",
       "    </tr>\n",
       "    <tr>\n",
       "      <th>MouseSymbol</th>\n",
       "      <th></th>\n",
       "      <th></th>\n",
       "    </tr>\n",
       "  </thead>\n",
       "  <tbody>\n",
       "    <tr>\n",
       "      <th>Ets1</th>\n",
       "      <td>8.227744</td>\n",
       "      <td>0.018762</td>\n",
       "    </tr>\n",
       "    <tr>\n",
       "      <th>Elk3</th>\n",
       "      <td>-0.302278</td>\n",
       "      <td>0.801983</td>\n",
       "    </tr>\n",
       "    <tr>\n",
       "      <th>Cebpd</th>\n",
       "      <td>18.657922</td>\n",
       "      <td>0.030743</td>\n",
       "    </tr>\n",
       "    <tr>\n",
       "      <th>Cebpz</th>\n",
       "      <td>1.211661</td>\n",
       "      <td>0.364314</td>\n",
       "    </tr>\n",
       "    <tr>\n",
       "      <th>Fosl2</th>\n",
       "      <td>1.813070</td>\n",
       "      <td>0.303564</td>\n",
       "    </tr>\n",
       "    <tr>\n",
       "      <th>Atf6</th>\n",
       "      <td>8.281545</td>\n",
       "      <td>0.050926</td>\n",
       "    </tr>\n",
       "    <tr>\n",
       "      <th>Atf6b</th>\n",
       "      <td>8.511109</td>\n",
       "      <td>0.015701</td>\n",
       "    </tr>\n",
       "    <tr>\n",
       "      <th>Maff</th>\n",
       "      <td>2.934127</td>\n",
       "      <td>0.103452</td>\n",
       "    </tr>\n",
       "  </tbody>\n",
       "</table>\n",
       "</div>"
      ],
      "text/plain": [
       "             t statistic    pvalue\n",
       "MouseSymbol                       \n",
       "Ets1            8.227744  0.018762\n",
       "Elk3           -0.302278  0.801983\n",
       "Cebpd          18.657922  0.030743\n",
       "Cebpz           1.211661  0.364314\n",
       "Fosl2           1.813070  0.303564\n",
       "Atf6            8.281545  0.050926\n",
       "Atf6b           8.511109  0.015701\n",
       "Maff            2.934127  0.103452"
      ]
     },
     "execution_count": 31,
     "metadata": {},
     "output_type": "execute_result"
    }
   ],
   "source": [
    "#samps_no_treat = [\"Cop1_sg1_r1 No treatment\", \"Cop1_sg1_r2 No treatment\", \"Cop1_sg2_r1 No treatment\", \"Cop1_sg2_r2 No treatment\"]\n",
    "#samps_treat = [\"Cop1_sg1_r1 MG132 treat\", \"Cop1_sg1_r2 MG132 treat\"]\n",
    "#cop1_mg132_fc = plot_df[samps_treat].mean(axis=1) / plot_df[samps_no_treat].mean(axis=1)\n",
    "tmp = prot_abundance[prot_abundance['MouseSymbol'].isin(list(tf_family['Mouse_Symbol'].unique()))].copy()\n",
    "tmp['TF family'] = tf_colors['AP-1']\n",
    "tmp.loc[tmp['MouseSymbol'].isin(tf_family[tf_family['Family']=='ETS']['Mouse_Symbol']), 'TF family'] = tf_colors['ETS']\n",
    "tmp.loc[tmp['MouseSymbol'].isin(tf_family[tf_family['Family']=='CEBP']['Mouse_Symbol']), 'TF family'] = tf_colors['CEBP']\n",
    "plot_df = tmp.set_index('MouseSymbol').loc[list(signif_up_tfs)]\n",
    "\n",
    "samps_no_treat = [\"Rosa26_r1 No treatment\", \"Rosa26_r2 No treatment\"]\n",
    "samps_treat = [\"Rosa26_r1 MG132 treat\", \"Rosa26_r2 MG132 treat\"]\n",
    "#plot_df[samps_treat].median(axis=1) / plot_df[samps_no_treat].median(axis=1)\n",
    "tvec = []\n",
    "pvec = []\n",
    "for ix, row in plot_df.iterrows():\n",
    "    t, pval = stats.ttest_ind(row[samps_treat], row[samps_no_treat], equal_var=False)\n",
    "    tvec.append(t)\n",
    "    pvec.append(pval)\n",
    "tmp_df = pd.DataFrame({'t statistic': tvec, 'pvalue': pvec}, index=plot_df.index)\n",
    "tmp_df"
   ]
  },
  {
   "cell_type": "code",
   "execution_count": 32,
   "metadata": {},
   "outputs": [
    {
     "data": {
      "text/html": [
       "<div>\n",
       "<style scoped>\n",
       "    .dataframe tbody tr th:only-of-type {\n",
       "        vertical-align: middle;\n",
       "    }\n",
       "\n",
       "    .dataframe tbody tr th {\n",
       "        vertical-align: top;\n",
       "    }\n",
       "\n",
       "    .dataframe thead th {\n",
       "        text-align: right;\n",
       "    }\n",
       "</style>\n",
       "<table border=\"1\" class=\"dataframe\">\n",
       "  <thead>\n",
       "    <tr style=\"text-align: right;\">\n",
       "      <th></th>\n",
       "      <th>t statistic</th>\n",
       "      <th>pvalue</th>\n",
       "    </tr>\n",
       "    <tr>\n",
       "      <th>MouseSymbol</th>\n",
       "      <th></th>\n",
       "      <th></th>\n",
       "    </tr>\n",
       "  </thead>\n",
       "  <tbody>\n",
       "    <tr>\n",
       "      <th>Ets1</th>\n",
       "      <td>4.732656</td>\n",
       "      <td>0.027964</td>\n",
       "    </tr>\n",
       "    <tr>\n",
       "      <th>Elk3</th>\n",
       "      <td>-0.174314</td>\n",
       "      <td>0.868730</td>\n",
       "    </tr>\n",
       "    <tr>\n",
       "      <th>Cebpd</th>\n",
       "      <td>0.902379</td>\n",
       "      <td>0.421658</td>\n",
       "    </tr>\n",
       "    <tr>\n",
       "      <th>Cebpz</th>\n",
       "      <td>-1.828841</td>\n",
       "      <td>0.129829</td>\n",
       "    </tr>\n",
       "    <tr>\n",
       "      <th>Fosl2</th>\n",
       "      <td>-1.186895</td>\n",
       "      <td>0.331632</td>\n",
       "    </tr>\n",
       "  </tbody>\n",
       "</table>\n",
       "</div>"
      ],
      "text/plain": [
       "             t statistic    pvalue\n",
       "MouseSymbol                       \n",
       "Ets1            4.732656  0.027964\n",
       "Elk3           -0.174314  0.868730\n",
       "Cebpd           0.902379  0.421658\n",
       "Cebpz          -1.828841  0.129829\n",
       "Fosl2          -1.186895  0.331632"
      ]
     },
     "execution_count": 32,
     "metadata": {},
     "output_type": "execute_result"
    }
   ],
   "source": [
    "samps_no_treat = [\"Cop1_sg1_r1 No treatment\", \"Cop1_sg1_r2 No treatment\", \"Cop1_sg2_r1 No treatment\", \"Cop1_sg2_r2 No treatment\"]\n",
    "samps_treat = [\"Cop1_sg1_r1 MG132 treat\", \"Cop1_sg1_r2 MG132 treat\", \"Cop1_sg2_r1 MG132 treat\"]\n",
    "#plot_df[samps_treat].median(axis=1) / plot_df[samps_no_treat].median(axis=1)\n",
    "tvec = []\n",
    "pvec = []\n",
    "for ix, row in plot_df.iterrows():\n",
    "    t, pval = stats.ttest_ind(row[samps_treat], row[samps_no_treat], equal_var=False)\n",
    "    tvec.append(t)\n",
    "    pvec.append(pval)\n",
    "tmp_df2 = pd.DataFrame({'t statistic': tvec, 'pvalue': pvec}, index=plot_df.index)\n",
    "tmp_df2.head()"
   ]
  },
  {
   "cell_type": "code",
   "execution_count": 33,
   "metadata": {},
   "outputs": [
    {
     "data": {
      "image/png": "[encoded data removed]",
      "text/plain": [
       "<Figure size 576x288 with 5 Axes>"
      ]
     },
     "metadata": {},
     "output_type": "display_data"
    }
   ],
   "source": [
    "is_constant = plot_df.std(axis=1)==0\n",
    "col_colors = plot_df.loc[~is_constant, ['TF family']].copy()\n",
    "plot_df2 = pd.DataFrame({'Rosa26': tmp_df['t statistic'], 'Cop1 KO': tmp_df2['t statistic']})\n",
    "with sns.plotting_context('notebook', font_scale=1.2), sns.axes_style('ticks'):\n",
    "    g = sns.clustermap(plot_df2.T.loc[['Rosa26', 'Cop1 KO']], cmap='coolwarm', center=0, #z_score=1, \n",
    "       annot=True, cbar_kws={'label':'t statistic'}, xticklabels=True, col_colors=col_colors,\n",
    "       linewidth=1, linecolor='black',\n",
    "       col_cluster=False, row_cluster=False, vmax=10\n",
    "       #col_colors=[sns.color_palette()[2] if l=='yes' else sns.color_palette()[5] for l in degron_labels]\n",
    "    )\n",
    "    plt.gcf().set_size_inches(8, 4)\n",
    "    g.ax_heatmap.set_xlabel('')\n",
    "    #plt.savefig('figures/mg132_treatment_heatmap.pdf')"
   ]
  }
 ],
 "metadata": {
  "kernelspec": {
   "display_name": "Python 3",
   "language": "python",
   "name": "python3"
  },
  "language_info": {
   "codemirror_mode": {
    "name": "ipython",
    "version": 3
   },
   "file_extension": ".py",
   "mimetype": "text/x-python",
   "name": "python",
   "nbconvert_exporter": "python",
   "pygments_lexer": "ipython3",
   "version": "3.7.7"
  }
 },
 "nbformat": 4,
 "nbformat_minor": 4
}
