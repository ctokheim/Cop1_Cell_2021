{
 "cells": [
  {
   "cell_type": "markdown",
   "metadata": {},
   "source": [
    "## Cop1 and infiltration correlation\n",
    "\n",
    "This notebook looks at the correlation of a Cop1 KO signature with inferred immune infiltration from 6 algorithms."
   ]
  },
  {
   "cell_type": "code",
   "execution_count": 2,
   "metadata": {},
   "outputs": [],
   "source": [
    "# import needed packages\n",
    "import warnings\n",
    "warnings.filterwarnings(\"ignore\")\n",
    "%matplotlib inline\n",
    "import matplotlib.style\n",
    "import matplotlib as mpl\n",
    "mpl.style.use('classic')\n",
    "import pandas as pd\n",
    "import seaborn as sns\n",
    "sns.set()\n",
    "import matplotlib.pyplot as plt\n",
    "import numpy as np\n",
    "import glob\n",
    "import os\n",
    "import scipy.stats as stats\n",
    "import matplotlib as mpl\n",
    "from matplotlib_venn import venn2, venn2_circles\n",
    "mpl.rcParams['pdf.fonttype'] = 42\n",
    "import src.visual.scatter as scatter\n"
   ]
  },
  {
   "cell_type": "markdown",
   "metadata": {},
   "source": [
    "Read in the data."
   ]
  },
  {
   "cell_type": "code",
   "execution_count": 3,
   "metadata": {},
   "outputs": [
    {
     "data": {
      "text/html": [
       "<div>\n",
       "<style scoped>\n",
       "    .dataframe tbody tr th:only-of-type {\n",
       "        vertical-align: middle;\n",
       "    }\n",
       "\n",
       "    .dataframe tbody tr th {\n",
       "        vertical-align: top;\n",
       "    }\n",
       "\n",
       "    .dataframe thead th {\n",
       "        text-align: right;\n",
       "    }\n",
       "</style>\n",
       "<table border=\"1\" class=\"dataframe\">\n",
       "  <thead>\n",
       "    <tr style=\"text-align: right;\">\n",
       "      <th></th>\n",
       "      <th>Partial correlation</th>\n",
       "      <th>Pvalue</th>\n",
       "      <th>cell_type</th>\n",
       "      <th>Cohort</th>\n",
       "      <th>FDR</th>\n",
       "      <th>cluster</th>\n",
       "    </tr>\n",
       "  </thead>\n",
       "  <tbody>\n",
       "    <tr>\n",
       "      <th>0</th>\n",
       "      <td>0.133917</td>\n",
       "      <td>0.255323</td>\n",
       "      <td>B cell memory_CIBERSORT</td>\n",
       "      <td>TCGA-ACC</td>\n",
       "      <td>0.451052</td>\n",
       "      <td>B Cell</td>\n",
       "    </tr>\n",
       "    <tr>\n",
       "      <th>1</th>\n",
       "      <td>0.106315</td>\n",
       "      <td>0.367300</td>\n",
       "      <td>B cell memory_CIBERSORT-ABS</td>\n",
       "      <td>TCGA-ACC</td>\n",
       "      <td>0.564017</td>\n",
       "      <td>B Cell</td>\n",
       "    </tr>\n",
       "    <tr>\n",
       "      <th>2</th>\n",
       "      <td>0.010228</td>\n",
       "      <td>0.931075</td>\n",
       "      <td>B cell memory_XCELL</td>\n",
       "      <td>TCGA-ACC</td>\n",
       "      <td>0.970896</td>\n",
       "      <td>B Cell</td>\n",
       "    </tr>\n",
       "    <tr>\n",
       "      <th>3</th>\n",
       "      <td>0.122937</td>\n",
       "      <td>0.296714</td>\n",
       "      <td>B cell naive_CIBERSORT</td>\n",
       "      <td>TCGA-ACC</td>\n",
       "      <td>0.495144</td>\n",
       "      <td>B Cell</td>\n",
       "    </tr>\n",
       "    <tr>\n",
       "      <th>4</th>\n",
       "      <td>-0.031940</td>\n",
       "      <td>0.787043</td>\n",
       "      <td>B cell naive_CIBERSORT-ABS</td>\n",
       "      <td>TCGA-ACC</td>\n",
       "      <td>0.887668</td>\n",
       "      <td>B Cell</td>\n",
       "    </tr>\n",
       "  </tbody>\n",
       "</table>\n",
       "</div>"
      ],
      "text/plain": [
       "   Partial correlation    Pvalue                    cell_type    Cohort  \\\n",
       "0             0.133917  0.255323      B cell memory_CIBERSORT  TCGA-ACC   \n",
       "1             0.106315  0.367300  B cell memory_CIBERSORT-ABS  TCGA-ACC   \n",
       "2             0.010228  0.931075          B cell memory_XCELL  TCGA-ACC   \n",
       "3             0.122937  0.296714       B cell naive_CIBERSORT  TCGA-ACC   \n",
       "4            -0.031940  0.787043   B cell naive_CIBERSORT-ABS  TCGA-ACC   \n",
       "\n",
       "        FDR cluster  \n",
       "0  0.451052  B Cell  \n",
       "1  0.564017  B Cell  \n",
       "2  0.970896  B Cell  \n",
       "3  0.495144  B Cell  \n",
       "4  0.887668  B Cell  "
      ]
     },
     "execution_count": 3,
     "metadata": {},
     "output_type": "execute_result"
    }
   ],
   "source": [
    "infil = pd.read_csv('data/signature/signature_cor_infiltration.txt', sep='\\t')\n",
    "rename_dict = {'Partial_cor': 'Partial correlation'}\n",
    "infil = infil.rename(columns=rename_dict)\n",
    "infil.head()"
   ]
  },
  {
   "cell_type": "markdown",
   "metadata": {},
   "source": [
    "Save heatmaps. The path may need to be changed, as appropriate for your file structure."
   ]
  },
  {
   "cell_type": "code",
   "execution_count": 6,
   "metadata": {},
   "outputs": [],
   "source": [
    "infil_methods = ['CIBERSORT-ABS', 'XCELL', 'EPIC', 'MCP_COUNTER', 'TIMER', 'QUANTISEQ']\n",
    "with sns.axes_style('ticks'), sns.plotting_context('paper', font_scale=2):\n",
    "    for m in infil_methods:\n",
    "        mat = scatter.scatterMtrx(infil[infil['cell_type'].str.endswith(m)],  'Cohort', 'cell_type', 'Partial correlation', 'FDR')\n",
    "        plt.savefig('figures/infil_corr/{}.pdf'.format(m))\n",
    "        plt.close('all')\n"
   ]
  }
 ],
 "metadata": {
  "kernelspec": {
   "display_name": "Python 3",
   "language": "python",
   "name": "python3"
  },
  "language_info": {
   "codemirror_mode": {
    "name": "ipython",
    "version": 3
   },
   "file_extension": ".py",
   "mimetype": "text/x-python",
   "name": "python",
   "nbconvert_exporter": "python",
   "pygments_lexer": "ipython3",
   "version": "3.7.7"
  }
 },
 "nbformat": 4,
 "nbformat_minor": 4
}
